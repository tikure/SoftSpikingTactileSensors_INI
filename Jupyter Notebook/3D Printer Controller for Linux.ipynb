{
 "cells": [
  {
   "cell_type": "code",
   "execution_count": 1,
   "id": "2a234b60",
   "metadata": {},
   "outputs": [],
   "source": [
    "#from serial import Serial\n",
    "import serial\n",
    "import matplotlib.pyplot as plt\n",
    "import time\n",
    "import numpy as np\n",
    "\n",
    "\n",
    "s_sensor = serial.Serial(port = \"COM5\", baudrate=115200,bytesize=8, timeout=2, stopbits=serial.STOPBITS_ONE)\n",
    "s_printer = serial.Serial(port = \"COM4\", baudrate=250000)\n"
   ]
  },
  {
   "cell_type": "markdown",
   "id": "e80362b3",
   "metadata": {},
   "source": [
    "\"\"\"Mecmesin Advanced Force Gauge Code\"\"\"\n",
    "s_AFG = serial.Serial(port = \"COM10\", baudrate=115200,bytesize=8, timeout=2, stopbits=serial.STOPBITS_ONE)\n",
    "s_AFG.write(0x2A)#* 42 0x2A Continuous transmit\n",
    "def read_force():\n",
    "    \"\"\"Reads the force from Mecmesin AFG on s_AFG\"\"\"\n",
    "    time.sleep(0.05)\n",
    "    s_AFG.flushInput()\n",
    "    s_AFG.write(0x3F)#? 63 0x3F Transmit the current reading\n",
    "    force_N = s_AFG.readline().decode().strip()\n",
    "    time.sleep(0.05)\n",
    "    s_AFG.flushInput()\n",
    "    s_AFG.write(0x3F)#? 63 0x3F Transmit the current reading\n",
    "    force_N = s_AFG.readline().decode().strip()\n",
    "    while force_N == '':#Incase empty bit arrives\n",
    "        s_AFG.flushInput()\n",
    "        s_AFG.write(0x3F)#? 63 0x3F Transmit the current reading\n",
    "        force_N = s_AFG.readline().decode().strip()\n",
    "    force_N = abs(float(force_N))#AFG reports compression as negative\n",
    "    #print(force_N)\n",
    "    return force_N"
   ]
  },
  {
   "cell_type": "code",
   "execution_count": 2,
   "id": "e3e6c786",
   "metadata": {},
   "outputs": [],
   "source": [
    "s_piezo = serial.Serial(port = \"COM3\", baudrate=9600)\n",
    "def read_force():\n",
    "    s_piezo.flushInput()\n",
    "    force_IDK = s_piezo.readline().decode().strip()\n",
    "    while force_IDK == \"\":\n",
    "        force_IDK = s_piezo.readline().decode().strip()\n",
    "    return int(force_IDK)"
   ]
  },
  {
   "cell_type": "code",
   "execution_count": 3,
   "id": "ca60649a",
   "metadata": {},
   "outputs": [
    {
     "data": {
      "text/plain": [
       "0"
      ]
     },
     "execution_count": 3,
     "metadata": {},
     "output_type": "execute_result"
    }
   ],
   "source": [
    "read_force()"
   ]
  },
  {
   "cell_type": "code",
   "execution_count": 4,
   "id": "656b08ac",
   "metadata": {},
   "outputs": [],
   "source": [
    "def read_printer():\n",
    "    \"\"\"Reads printers current position over serial\"\"\"\n",
    "    s_printer.flushInput()\n",
    "    s_printer.write(\"M114 R\\n\".encode())#M114 returns cooridnated\n",
    "    grbl_out = s_printer.readline().decode()\n",
    "    #print(grbl_out)\n",
    "    while(grbl_out[0] != \"X\"):#Sometimes temperature readings get transmitted instead\n",
    "        grbl_out = s_printer.readline().decode()\n",
    "    #print(grbl_out)\n",
    "    data = grbl_out.split()[0:3]#X, Y, Z\n",
    "    data = [float(d[2:]) for d in data]\n",
    "    return data"
   ]
  },
  {
   "cell_type": "code",
   "execution_count": 5,
   "id": "61a3c60e",
   "metadata": {},
   "outputs": [],
   "source": [
    "def read_sensor():\n",
    "    \"\"\"Reads ReSkin Sensor from arduino over serial\"\"\"\n",
    "    s_sensor.flushInput()\n",
    "    serialString = s_sensor.readline()\n",
    "    serialString = serialString.decode('Ascii')\n",
    "    #time.sleep(0.001)\n",
    "    \n",
    "    b20 = [float(b) for b in serialString.split()]\n",
    "    return b20"
   ]
  },
  {
   "cell_type": "code",
   "execution_count": 6,
   "id": "dbb5a40d",
   "metadata": {},
   "outputs": [],
   "source": [
    "def setpos(X,Y,Z):\n",
    "    \"\"\"Sets position of 3d printer via serial (Marlin)\"\"\"\n",
    "    line = \"G0 \"+ \" X\"+str(X)+\" Y\"+str(Y)+ \" Z\"+str(Z)+  \" F\" + str(feedrate)+\"\\n\"\n",
    "    s_printer.write(line.encode()) # Send g-code block to grbl\n",
    "    line = \"M400 \\n\"\n",
    "    s_printer.write(line.encode())#M400 halts gcode until move is completed\n",
    "    line = \"M118 moved!\\n\"\n",
    "    s_printer.write(line.encode()) #M118 asks serial to send from 3d (but only after M400/move is completed)\n",
    "    grbl = s_printer.readline().decode()\n",
    "    while grbl != 'moved!\\r\\n':#Dont continue if we have not moved\n",
    "        grbl = s_printer.readline().decode()\n",
    "    return"
   ]
  },
  {
   "cell_type": "code",
   "execution_count": 7,
   "id": "cc511b5b",
   "metadata": {},
   "outputs": [],
   "source": [
    "feedrate = \"1600\""
   ]
  },
  {
   "cell_type": "code",
   "execution_count": 8,
   "id": "7af8536d",
   "metadata": {},
   "outputs": [
    {
     "name": "stdout",
     "output_type": "stream",
     "text": [
      "Sending: G90\n",
      "[0.0, 0.0, -1.6]\n",
      "Sending: G92\n",
      "[0.0, 0.0, 0.0]\n"
     ]
    }
   ],
   "source": [
    "#Setup\n",
    "# Wake up grbl\n",
    "s_printer.write(\"\\r\\n\\r\\n\".encode())\n",
    "time.sleep(2)   # Wait for grbl to initialize\n",
    "s_printer.flushInput()  # Flush startup text in serial input\n",
    "\n",
    "#Set established 0/0/0 pos\n",
    "\"\"\"Sets origin for printer - set position to be above bottom left screw and 2mm above sensor surface (X & Y + 10)\"\"\"\n",
    "\n",
    "\n",
    "print('Sending: ' + \"G90\")\n",
    "s_printer.write(\"G90\\n\".encode())\n",
    "\n",
    "#setpos(x_def, y_def, z_def)\n",
    "print(read_printer())\n",
    "print('Sending: ' + \"G92\")\n",
    "s_printer.write(\"G92 X0 Y0 Z0\\n\".encode())\n",
    "print(read_printer())\n",
    "time.sleep(3)"
   ]
  },
  {
   "cell_type": "code",
   "execution_count": 9,
   "id": "0c1cf208",
   "metadata": {},
   "outputs": [
    {
     "data": {
      "text/plain": [
       "[0.0, 0.0, 0.0]"
      ]
     },
     "execution_count": 9,
     "metadata": {},
     "output_type": "execute_result"
    }
   ],
   "source": [
    "read_printer()"
   ]
  },
  {
   "cell_type": "code",
   "execution_count": 10,
   "id": "93796f41",
   "metadata": {},
   "outputs": [],
   "source": [
    "setpos(0,0,0)"
   ]
  },
  {
   "cell_type": "code",
   "execution_count": 11,
   "id": "7fdd7f59",
   "metadata": {},
   "outputs": [
    {
     "name": "stdout",
     "output_type": "stream",
     "text": [
      "[60.15, -105.3, -45.5, 28.72, 60.6, -147.6, -49.13, 27.96, -664.05, 931.35, -812.39, 26.9, -68.55, 2258.85, 152.7, 26.17, -89.1, 80.55, -100.19, 28.38]\n"
     ]
    }
   ],
   "source": [
    "b20 = read_sensor()\n",
    "print(b20)"
   ]
  },
  {
   "cell_type": "code",
   "execution_count": null,
   "id": "38eb20fa",
   "metadata": {},
   "outputs": [],
   "source": [
    "lin = np.arange(2,3.8,0.01)\n",
    "setpos(10,10,0)\n",
    "forces = []\n",
    "for depth in lin:\n",
    "    setpos(10,10,-depth)\n",
    "    forces.append(read_force())\n",
    "    time.sleep(0.1)\n",
    "setpos(10,10,0)\n",
    "plt.plot(lin,forces)\n",
    "plt.xlabel(\"Depth [mm]\")\n",
    "plt.ylabel(\"Response [v]\")\n",
    "plt.title(\"Force Sensor Response\")\n",
    "plt.show()"
   ]
  },
  {
   "cell_type": "code",
   "execution_count": null,
   "id": "fcc2f2bf",
   "metadata": {},
   "outputs": [],
   "source": [
    "\"\"\"Normalization Values collected before and after\"\"\"\n",
    "norm_data = []\n",
    "setpos(0,0,0)\n",
    "time.sleep(1)\n",
    "\n",
    "for i in range(5000):\n",
    "    b20 = read_sensor()\n",
    "    if i%1000 == 0:\n",
    "        print(i)\n",
    "        print(\"B20 Read\")\n",
    "        print(b20)\n",
    "    norm_data.append(b20)"
   ]
  },
  {
   "cell_type": "code",
   "execution_count": null,
   "id": "3e2f08dd",
   "metadata": {},
   "outputs": [],
   "source": [
    "print(len(norm_data))"
   ]
  },
  {
   "cell_type": "code",
   "execution_count": null,
   "id": "fa942e58",
   "metadata": {},
   "outputs": [],
   "source": [
    "\"\"\"Avoid corners with screws\"\"\"\n",
    "notest = []\n",
    "for i in (0,1,7,8):\n",
    "    for q in (0,1,7,8):\n",
    "        notest.append([i,q])\n",
    "notest.append([0,5,3])\n",
    "print(len(notest))\n",
    "print(notest)\n",
    "print([0,5] in notest) "
   ]
  },
  {
   "cell_type": "code",
   "execution_count": null,
   "id": "b5179d2a",
   "metadata": {},
   "outputs": [],
   "source": [
    "truths = []\n",
    "sensor_data = []"
   ]
  },
  {
   "cell_type": "markdown",
   "id": "d0acc1cd",
   "metadata": {},
   "source": [
    "feedrate = 1000\n",
    "setpos(0,0,0)"
   ]
  },
  {
   "cell_type": "code",
   "execution_count": null,
   "id": "6f0c54d1",
   "metadata": {},
   "outputs": [],
   "source": [
    "iterations = 250\n",
    "#print(f\"Estimated time to completion: {round(170*iterations/60,0)}min\")\n",
    "grid_x = 9\n",
    "grid_y = 9\n",
    "jump_mm = 19/9\n",
    "z_depths = [0.2,0.4,0.6,0.8,1,1.2,1.4]\n",
    "z_depths_mm = [-z-2.4 for z in z_depths]\n",
    "wait_time = 0.5\n",
    "setpos(0,0,0)\n",
    "\n",
    "no_cord = []\n",
    "time_start = time.time()\n",
    "time_for_iteration = 0\n",
    "for iteration in range(1,iterations):\n",
    "    setpos(0,0,0)\n",
    "    for g_x in range(grid_x):#Iteratate over grid\n",
    "        g_x_mm = round(g_x*jump_mm,2)\n",
    "        setpos(g_x_mm,0,0)\n",
    "        for g_y in range(grid_y):\n",
    "            if not ([g_x,g_y] in notest): #Remove corners with screws\n",
    "                g_y_mm = round(g_y*jump_mm,2)\n",
    "                setpos(g_x_mm,g_y_mm,0)#move above testing depth\n",
    "                for z_mm in z_depths_mm:\n",
    "                    setpos(g_x_mm,g_y_mm,z_mm)#move to testing depth\n",
    "\n",
    "                    #Readdata\n",
    "                    b20 = read_sensor()\n",
    "                    sensor_data.append(b20)\n",
    "\n",
    "                    force_N = read_force()\n",
    "                    if force_N == 0:#If not touching sensor we define as 0/0/0\n",
    "                        #notest.append([g_x,g_y,z_mm])\n",
    "                        truths.append([-1,-1,force_N])\n",
    "                        #print(\"Notest:\",[g_x,g_y,z_mm,z_mm])\n",
    "                    else:\n",
    "                        truths.append([g_x_mm,g_y_mm,force_N])\n",
    "                        #print([g_x_mm,g_y_mm,force_N])\n",
    "                else:\n",
    "                    b20 = read_sensor()\n",
    "                    sensor_data.append(b20)\n",
    "                    truths.append([-1,-1,0])\n",
    "                setpos(g_x_mm,g_y_mm,0)#Move above sensor again\n",
    "    \n",
    "    time_for_iteration = round(time.time()-time_start,0)-time_for_iteration\n",
    "    if iteration == 1:\n",
    "        print(\"Initial time: \", time_for_iteration)\n",
    "        print(f\"Initial time to completion: {round(time_for_iteration*(iterations-iteration)/60,0)}min\")\n",
    "    print(f\"Iterations: {iteration}/{iterations}\")\n",
    "    #print(f\"Current iter time: {time_for_iteration}s\")\n",
    "    #print([g_x_mm,g_y_mm,force_N])\n",
    "    #print(b20)\n",
    "setpos(0,0,0)\n",
    "\n",
    " \n"
   ]
  },
  {
   "cell_type": "code",
   "execution_count": null,
   "id": "9d1be4c3",
   "metadata": {},
   "outputs": [],
   "source": [
    "print(notest)"
   ]
  },
  {
   "cell_type": "code",
   "execution_count": null,
   "id": "08902c56",
   "metadata": {},
   "outputs": [],
   "source": [
    "print(f\"Total time: {round(time.time()-time_start,0)}s\")\n",
    "print(f\"Time/Iteration: {round((time.time()-time_start)/iterations,0)}s\")\n",
    "print(f\"Sensor Data count: {len(sensor_data)}\")\n",
    "print(f\"Truth count: {len(truths)}\")\n",
    "\n",
    "sensor_data = sensor_data[:len(truths)]\n",
    "\n",
    "print(f\"Sensor Data count: {len(sensor_data)}\")\n",
    "print(f\"Truth count: {len(truths)}\")"
   ]
  },
  {
   "cell_type": "code",
   "execution_count": null,
   "id": "4d76d6c1",
   "metadata": {},
   "outputs": [],
   "source": [
    "#Normalization values:\n",
    "setpos(0,0,0)\n",
    "time.sleep(5)\n",
    "\n",
    "for i in range(5000):\n",
    "    b20 = read_sensor()\n",
    "    if i%1000 == 0:\n",
    "        print(i)\n",
    "        print(\"B20 Read\")\n",
    "        print(b20)\n",
    "    norm_data.append(b20)\n",
    "print(len(norm_data))"
   ]
  },
  {
   "cell_type": "code",
   "execution_count": null,
   "id": "6e3fb71a",
   "metadata": {},
   "outputs": [],
   "source": [
    "print(f\"Sensor Data count: {len(sensor_data)}\")\n",
    "print(sensor_data[0:3])\n",
    "print(f\"Truth count: {len(truths)}\")\n",
    "print(truths[0:3])\n",
    "print(f\"Norm Value count: {len(norm_data)}\")\n",
    "print(norm_data[0:3])"
   ]
  },
  {
   "cell_type": "code",
   "execution_count": null,
   "id": "25fca2c8",
   "metadata": {},
   "outputs": [],
   "source": [
    "np.savetxt(\"C:/Users/timku/Dropbox/Neural Computation Project/Models/Data/norm_b20_artillery_piezo_screw.txt\", norm_data, fmt=\"%s\")\n",
    "np.savetxt(\"C:/Users/timku/Dropbox/Neural Computation Project/Models/Data/b20_artillery_piezo_screw.txt\", sensor_data, fmt=\"%s\")\n",
    "np.savetxt(\"C:/Users/timku/Dropbox/Neural Computation Project/Models/Data/truths_artillery_piezo_screw.txt\", truths, fmt=\"%s\")"
   ]
  },
  {
   "cell_type": "code",
   "execution_count": null,
   "id": "78e72a31",
   "metadata": {},
   "outputs": [],
   "source": []
  },
  {
   "cell_type": "markdown",
   "id": "a201b873",
   "metadata": {},
   "source": [
    "truths =  np.loadtxt(\"C:/Users/timku/Dropbox/Neural Computation Project/Models/Data/truths_artillery_screw.txt\",dtype = float)\n",
    "sensor_data = np.loadtxt(\"C:/Users/timku/Dropbox/Neural Computation Project/Models/Data/b20_artillery_screw.txt\",dtype = float)\n",
    "norm_data = np.loadtxt(\"C:/Users/timku/Dropbox/Neural Computation Project/Models/Data/norm_b20_artillery_screw.txt\",dtype = float) "
   ]
  },
  {
   "cell_type": "markdown",
   "id": "9f55463f",
   "metadata": {},
   "source": [
    "truths2 =  np.loadtxt(\"C:/Users/timku/Dropbox/Neural Computation Project/Models/Data/truths_artillery_screw2.txt\",dtype = float)\n",
    "sensor_data2 = np.loadtxt(\"C:/Users/timku/Dropbox/Neural Computation Project/Models/Data/b20_artillery_screw2.txt\",dtype = float)\n",
    "norm_data2 = np.loadtxt(\"C:/Users/timku/Dropbox/Neural Computation Project/Models/Data/norm_b20_artillery_screw2.txt\",dtype = float) "
   ]
  },
  {
   "cell_type": "markdown",
   "id": "eeab7e07",
   "metadata": {},
   "source": [
    "truths = np.concatenate((truths,truths2))\n",
    "sensor_data  = np.concatenate((sensor_data,sensor_data2 ))\n",
    "norm_data = np.concatenate((norm_data,norm_data2))\n",
    "print(len(truths))"
   ]
  },
  {
   "cell_type": "code",
   "execution_count": null,
   "id": "025e5fb9",
   "metadata": {},
   "outputs": [],
   "source": []
  }
 ],
 "metadata": {
  "kernelspec": {
   "display_name": "Python 3 (ipykernel)",
   "language": "python",
   "name": "python3"
  },
  "language_info": {
   "codemirror_mode": {
    "name": "ipython",
    "version": 3
   },
   "file_extension": ".py",
   "mimetype": "text/x-python",
   "name": "python",
   "nbconvert_exporter": "python",
   "pygments_lexer": "ipython3",
   "version": "3.9.12"
  }
 },
 "nbformat": 4,
 "nbformat_minor": 5
}
