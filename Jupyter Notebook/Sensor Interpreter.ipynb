{
 "cells": [
  {
   "cell_type": "code",
   "execution_count": 1,
   "metadata": {},
   "outputs": [],
   "source": [
    "#Setup\n",
    "\n",
    "#from serial import Serial\n",
    "import serial\n",
    "import matplotlib.pyplot as plt\n",
    "import time\n",
    "import numpy as np\n",
    "\n",
    "\n",
    "s_sensor = serial.Serial(port = \"COM7\", baudrate=115200,bytesize=8, timeout=2, stopbits=serial.STOPBITS_ONE)"
   ]
  },
  {
   "cell_type": "code",
   "execution_count": 2,
   "metadata": {},
   "outputs": [],
   "source": [
    "def read_sensor(norm = True):\n",
    "    \"\"\"Reads ReSkin Sensor from arduino over serial\"\"\"\n",
    "    s_sensor.flushInput()\n",
    "    serialString = s_sensor.readline()\n",
    "    serialString = serialString.decode('Ascii')\n",
    "    #time.sleep(0.001)\n",
    "    b = [float(b) for b in serialString.split()]\n",
    "    b15 = np.array(np.concatenate((b[0:3],b[4:7],b[8:11],b[12:15],b[16:19])))\n",
    "    if norm:\n",
    "        b15 = b15/norm_val\n",
    "    #print(b15)\n",
    "    return b15"
   ]
  },
  {
   "cell_type": "code",
   "execution_count": 3,
   "metadata": {},
   "outputs": [
    {
     "name": "stdout",
     "output_type": "stream",
     "text": [
      "Length b15_norm: 10000\n",
      "Original Norm:[[  -9.9  -116.25  -48.88   28.47   24.3   -83.85  -46.71   27.37 -748.5\n",
      "   872.25 -706.64   25.95   39.45 2159.55 -328.64   25.95  -16.35   59.55\n",
      "  -106.24   27.85]\n",
      " [ -10.2  -115.35  -38.24   28.36   28.35  -88.5   -48.88   27.5  -748.5\n",
      "   872.85 -701.32   26.22   42.3  2163.9  -316.78   26.02  -10.65   61.05\n",
      "   -98.01   27.83]\n",
      " [ -13.35 -111.    -47.67   28.19   32.85  -87.75  -53.     27.48 -748.65\n",
      "   872.85 -712.69   26.19   36.3  2161.35 -306.86   25.84  -12.6    60.\n",
      "   -94.62   27.88]]\n",
      "--------------------------------\n",
      "Normalization Values: 15,[-9.301140114011432, -112.55498049804939, -46.38913591359134, 25.5916441644165, -89.20546054605424, -45.74038203820355, -725.7696669666943, 902.6401740174005, -736.7192019201963, 7.675802580257935, 2194.857395739572, -206.12049204920504, -13.6403240324032, 62.130618061806196, -92.99333533353322]\n",
      "\n",
      "[[0.   4.22 0.  ]\n",
      " [0.   4.22 0.  ]\n",
      " [0.   4.22 0.  ]\n",
      " [0.   4.22 0.02]\n",
      " [0.   4.22 0.1 ]]\n"
     ]
    }
   ],
   "source": [
    "b20_norm = np.loadtxt(\"./Data/norm_b20_artillery_screw_5k.txt\",dtype = float) \n",
    "\n",
    "b15_norm = [np.concatenate((b[0:3],b[4:7],b[8:11],b[12:15],b[16:19])) for b in b20_norm]\n",
    "print(f\"Length b15_norm: {len(b20_norm)}\")\n",
    "print(f\"Original Norm:{b20_norm[0:3]}\")\n",
    "print(\"--------------------------------\")\n",
    "\n",
    "if False:\n",
    "    b15_norm = []\n",
    "    for i in range(6000):\n",
    "        b15_norm.append(read_sensor(norm=False))\n",
    "        if i%3000 == 0:\n",
    "            print(b15_norm[i])\n",
    "#Setup normalization\n",
    "norm_val = []\n",
    "for i in range(len(b15_norm[0])):\n",
    "    mean = 0\n",
    "    for count,b in enumerate(b15_norm):\n",
    "        mean += b[i]\n",
    "    mean = mean/count\n",
    "    norm_val.append(mean)\n",
    "print(f\"Normalization Values: {len(norm_val)},{norm_val}\")\n",
    "\n",
    "truths =  np.loadtxt(\"./Data/truths_artillery_screw_50k.txt\",dtype = float)\n",
    "print()\n",
    "print(truths[0:5])"
   ]
  },
  {
   "cell_type": "code",
   "execution_count": 4,
   "metadata": {},
   "outputs": [
    {
     "name": "stdout",
     "output_type": "stream",
     "text": [
      "[ -0.64508221   0.79294581   0.97544391   1.86975091   1.15183532\n",
      "   0.80410347   0.86949073   1.10027232   0.99497882 -20.40177537\n",
      "   0.99443818  -0.90170559   2.40830056   1.13953478   1.03308479]\n",
      "[ 1.50000e+00 -9.31500e+01 -4.64600e+01  4.56000e+01 -9.73500e+01\n",
      " -3.77500e+01 -6.34350e+02  9.93300e+02 -7.36160e+02 -1.58100e+02\n",
      "  2.18085e+03  1.91910e+02 -3.21000e+01  7.60500e+01 -9.43800e+01]\n"
     ]
    }
   ],
   "source": [
    "print(read_sensor())\n",
    "print(read_sensor(False))"
   ]
  },
  {
   "cell_type": "code",
   "execution_count": 5,
   "metadata": {},
   "outputs": [],
   "source": [
    "#Model:\n",
    "import os\n",
    "\n",
    "import numpy as np\n",
    "import torch\n",
    "import torch.nn as nn\n",
    "from torch.autograd import Function\n",
    "\n",
    "def initialize_weights(m):\n",
    "    if isinstance(m, nn.Linear):\n",
    "        nn.init.kaiming_uniform_(m.weight.data,nonlinearity='relu')\n",
    "        \n",
    "class simpleMLP(nn.Module):\n",
    "    def __init__(self, n_input, n_output, hidden_dims=[64,64], \n",
    "        activation_fn = nn.Tanh, output_activation = None):\n",
    "        super(simpleMLP,self).__init__()\n",
    "        self.n_input = n_input\n",
    "        self.n_output = n_output\n",
    "        \n",
    "        layer_dims = [n_input] + hidden_dims + [n_output]\n",
    "        layers = []\n",
    "        \n",
    "        for d in range(len(layer_dims)-1):\n",
    "            layers.append(nn.Linear(layer_dims[d], layer_dims[d+1], bias=True))\n",
    "            if d < len(layer_dims) - 2:\n",
    "                layers.append(activation_fn())\n",
    "        \n",
    "        if output_activation is not None:\n",
    "            layers.append(output_activation())\n",
    "        for l in layers:\n",
    "            initialize_weights(l)\n",
    "        self.model = nn.Sequential(*layers)\n",
    "        \n",
    "        \n",
    "            \n",
    "    def forward(self, inputs):\n",
    "        return self.model(inputs)\n",
    "\n",
    "class vanilla_model(nn.Module):\n",
    "    def __init__(self, n_input, feature_dim=20, feat_hidden=[64,64], activation_fn=nn.Tanh,\n",
    "        feat_activation=None, output_hidden=[64,64],output_activation=None,\n",
    "        pred_Fz=True, pred_Fxy=False):\n",
    "        super(vanilla_model, self).__init__()\n",
    "        self.n_input = n_input\n",
    "        self.n_output = 2 + int(pred_Fz) + 2*int(pred_Fxy)\n",
    "        self.feature_dim = feature_dim\n",
    "        self.feat_model = simpleMLP(n_input=n_input, n_output=feature_dim, \n",
    "            hidden_dims=feat_hidden, activation_fn=activation_fn, \n",
    "            output_activation=feat_activation\n",
    "        )\n",
    "        self.output_model = simpleMLP(feature_dim, self.n_output, hidden_dims=output_hidden,\n",
    "            activation_fn=activation_fn, output_activation=output_activation)\n",
    "\n",
    "    def forward(self, sens):\n",
    "        return self.output_model(self.get_feature(sens))\n",
    "\n",
    "    def get_feature(self, sens):\n",
    "        return self.feat_model(sens)\n",
    "    \n",
    "    def get_out_from_feature(self, feature):\n",
    "        return self.output_model(feature)"
   ]
  },
  {
   "cell_type": "code",
   "execution_count": 6,
   "metadata": {},
   "outputs": [],
   "source": [
    "model = vanilla_model(15, feature_dim=40, feat_hidden=[200,200], activation_fn=nn.ReLU, output_hidden=[200,200],\n",
    "                            output_activation=nn.ReLU)"
   ]
  },
  {
   "cell_type": "code",
   "execution_count": 7,
   "metadata": {},
   "outputs": [
    {
     "data": {
      "text/plain": [
       "<All keys matched successfully>"
      ]
     },
     "execution_count": 7,
     "metadata": {},
     "output_type": "execute_result"
    }
   ],
   "source": [
    "model.load_state_dict(torch.load(\"./Data/working_model_200\"))"
   ]
  },
  {
   "cell_type": "code",
   "execution_count": 8,
   "metadata": {},
   "outputs": [],
   "source": [
    "%matplotlib inline\n",
    "import time\n",
    "import pylab as pl\n",
    "from IPython import display\n",
    "import matplotlib.pyplot as plt\n",
    "\n",
    "def update_plot(x_list,y_list,F_list):\n",
    "    plt.clf()\n",
    "    plt.xlim(0,20)\n",
    "    plt.ylim(0,20)\n",
    "    plt.ylabel(\"y predicted [mm]\")\n",
    "    plt.xlabel(\"x predicted [mm]\")\n",
    "    plt.scatter(x_list,y_list,F_list)\n",
    "    display.display(plt.gcf())\n",
    "    display.clear_output(wait=True)\n",
    "    time.sleep(0.0001)"
   ]
  },
  {
   "cell_type": "code",
   "execution_count": null,
   "metadata": {},
   "outputs": [
    {
     "data": {
      "image/png": "[encoded data removed]",
      "text/plain": [
       "<Figure size 432x288 with 1 Axes>"
      ]
     },
     "metadata": {},
     "output_type": "display_data"
    }
   ],
   "source": [
    "i = 0\n",
    "show =15\n",
    "x_list = np.zeros(show)\n",
    "y_list = np.zeros(show)\n",
    "F_list = np.zeros(show)\n",
    "\n",
    "while(1):\n",
    "    single_set = [torch.tensor(read_sensor(),dtype=torch.float32),torch.tensor(truths[0],dtype=torch.float32)]\n",
    "    xyF = model(single_set[0])\n",
    "    #print(f\"X:{float(xyF[0])}, Y:{float(xyF[1])}, F:{float(xyF[2])}\")\n",
    "    if(xyF[2] != 0):\n",
    "        #print(float(xyF[0]),float(xyF[1]),float(xyF[2]))\n",
    "        x_list[i] = float(xyF[0])\n",
    "        y_list[i] = float(xyF[1])\n",
    "        F_list[i] = float(xyF[2])*25\n",
    "    else:\n",
    "        #print(float(xyF[0]),float(xyF[1]),float(xyF[2]))\n",
    "        x_list[i] = 0\n",
    "        y_list[i] = 0\n",
    "        F_list[i] = 0\n",
    "        \n",
    "    i += 1\n",
    "    if i == show-1:\n",
    "        i = 0\n",
    "    #print(i)\n",
    "    #print(x_list)\n",
    "    #print(y_list)\n",
    "    #print(F_list)\n",
    "    update_plot(x_list,y_list,F_list)\n",
    "    #time.sleep(0.0001)"
   ]
  },
  {
   "cell_type": "code",
   "execution_count": null,
   "metadata": {},
   "outputs": [],
   "source": []
  }
 ],
 "metadata": {
  "kernelspec": {
   "display_name": "Python 3",
   "language": "python",
   "name": "python3"
  },
  "language_info": {
   "codemirror_mode": {
    "name": "ipython",
    "version": 3
   },
   "file_extension": ".py",
   "mimetype": "text/x-python",
   "name": "python",
   "nbconvert_exporter": "python",
   "pygments_lexer": "ipython3",
   "version": "3.8.5"
  }
 },
 "nbformat": 4,
 "nbformat_minor": 4
}
