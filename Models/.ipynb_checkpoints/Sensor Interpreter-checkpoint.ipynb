{
 "cells": [
  {
   "cell_type": "code",
   "execution_count": 1,
   "metadata": {},
   "outputs": [
    {
     "name": "stdout",
     "output_type": "stream",
     "text": [
      "[60.0, -47.43, 29.91, -26.85, 120.45, -88.09, 30.29, 659.55, 1185.9, -998.01, 31.31]\n"
     ]
    },
    {
     "ename": "IndexError",
     "evalue": "index 1 is out of bounds for axis 0 with size 1",
     "output_type": "error",
     "traceback": [
      "\u001b[1;31m---------------------------------------------------------------------------\u001b[0m",
      "\u001b[1;31mIndexError\u001b[0m                                Traceback (most recent call last)",
      "\u001b[1;32m<ipython-input-1-1a899410d581>\u001b[0m in \u001b[0;36m<module>\u001b[1;34m\u001b[0m\n\u001b[0;32m     36\u001b[0m     \u001b[0mmean\u001b[0m \u001b[1;33m=\u001b[0m \u001b[1;36m0\u001b[0m\u001b[1;33m\u001b[0m\u001b[1;33m\u001b[0m\u001b[0m\n\u001b[0;32m     37\u001b[0m     \u001b[1;32mfor\u001b[0m \u001b[0mcount\u001b[0m\u001b[1;33m,\u001b[0m \u001b[0mb\u001b[0m \u001b[1;32min\u001b[0m \u001b[0menumerate\u001b[0m\u001b[1;33m(\u001b[0m\u001b[0mb15_norm\u001b[0m\u001b[1;33m)\u001b[0m\u001b[1;33m:\u001b[0m\u001b[1;33m\u001b[0m\u001b[1;33m\u001b[0m\u001b[0m\n\u001b[1;32m---> 38\u001b[1;33m         \u001b[0mmean\u001b[0m \u001b[1;33m+=\u001b[0m \u001b[0mb\u001b[0m\u001b[1;33m[\u001b[0m\u001b[0mi\u001b[0m\u001b[1;33m]\u001b[0m\u001b[1;33m\u001b[0m\u001b[1;33m\u001b[0m\u001b[0m\n\u001b[0m\u001b[0;32m     39\u001b[0m     \u001b[0mmean\u001b[0m \u001b[1;33m=\u001b[0m \u001b[0mmean\u001b[0m \u001b[1;33m/\u001b[0m \u001b[0mcount\u001b[0m\u001b[1;33m\u001b[0m\u001b[1;33m\u001b[0m\u001b[0m\n\u001b[0;32m     40\u001b[0m     \u001b[0mnorm_val\u001b[0m\u001b[1;33m.\u001b[0m\u001b[0mappend\u001b[0m\u001b[1;33m(\u001b[0m\u001b[0mmean\u001b[0m\u001b[1;33m)\u001b[0m\u001b[1;33m\u001b[0m\u001b[1;33m\u001b[0m\u001b[0m\n",
      "\u001b[1;31mIndexError\u001b[0m: index 1 is out of bounds for axis 0 with size 1"
     ]
    }
   ],
   "source": [
    "\"\"\"Packages\"\"\"\n",
    "import serial\n",
    "import matplotlib.pyplot as plt\n",
    "import time\n",
    "import numpy as np\n",
    "import sys\n",
    "#Model:\n",
    "import os\n",
    "import torch\n",
    "import torch.nn as nn\n",
    "from torch.autograd import Function\n",
    "\n",
    "import matplotlib\n",
    "matplotlib.use(\"TkAgg\")\n",
    "\n",
    "sys.path.append(\"./Functions\")\n",
    "from Model_functions import *\n",
    "from SensorCollectionFunctions import *\n",
    "\n",
    "\n",
    "\"\"\"Setup Connection\"\"\"\n",
    "s_sensor = serial.Serial(port = \"COM9\", baudrate=115200,bytesize=8, timeout=2, stopbits=serial.STOPBITS_ONE)\n",
    "print(read_sensor(s_sensor))\n",
    "\n",
    "\n",
    "\"\"\"Load Normalization Values of Model\"\"\"\n",
    "model_name = \"AFG_test400\"\n",
    "norm_val = np.loadtxt(\"./Data/norm_val__\"+model_name+\".txt\",dtype = float)\n",
    "b15_norm = []\n",
    "print(\"Collecting Norm Val\")\n",
    "for i in range(5000):\n",
    "    b = read_sensor(s_sensor)\n",
    "    b15  = np.array(np.concatenate((b[0:3],b[4:7],b[8:11],b[12:15],b[16:19])))\n",
    "    if b\n",
    "    b15_norm.append(b15)\n",
    "norm_val = []\n",
    "for i in range(len(b15_norm[0])):\n",
    "    mean = 0\n",
    "    for count, b in enumerate(b15_norm):\n",
    "        mean += b[i]\n",
    "    mean = mean / count\n",
    "    norm_val.append(mean)\n",
    "print(f\"Normalization Values: {len(norm_val)},{norm_val}\")\n",
    "\n",
    "print(\"Normalized Sensor Values: \",read_sensor(s_sensor))#Check if sensor works\n",
    "\n",
    "\"\"\"Setup Model\"\"\"\n",
    "model = vanilla_model(15, feature_dim=40, feat_hidden=[200,200], activation_fn=nn.ReLU, output_hidden=[200,200],\n",
    "                            output_activation=nn.ReLU)\n",
    "\n",
    "model.load_state_dict(torch.load(\"./Data/MLP_\"+model_name))\n",
    "print(model.eval)\n",
    "truths = [0,0,0]\n"
   ]
  },
  {
   "cell_type": "code",
   "execution_count": null,
   "metadata": {},
   "outputs": [],
   "source": [
    "while 1:\n",
    "    b = read_sensor(s_sensor)\n",
    "    b15 = np.array(np.concatenate((b[0:3], b[4:7], b[8:11], b[12:15], b[16:19])))\n",
    "    b15 = b15 / norm_val\n",
    "    print(\"Sensor Value: \",b15)\n",
    "    single_set = [torch.tensor(b15, dtype=torch.float32), torch.tensor(truths[0], dtype=torch.float32)]\n",
    "    xyF = model(single_set[0])\n",
    "\n",
    "    print(f\"Predicted [X, Y, F] {xyF.detach().numpy()}\")\n",
    "    time.sleep(0.5)"
   ]
  },
  {
   "cell_type": "code",
   "execution_count": 2,
   "metadata": {},
   "outputs": [],
   "source": [
    "def read_sensor(norm = True):\n",
    "    \"\"\"Reads ReSkin Sensor from arduino over serial\"\"\"\n",
    "    s_sensor.flushInput()\n",
    "    serialString = s_sensor.readline()\n",
    "    serialString = serialString.decode('Ascii')\n",
    "    #time.sleep(0.001)\n",
    "    b = [float(b) for b in serialString.split()]\n",
    "    b15 = np.array(np.concatenate((b[0:3],b[4:7],b[8:11],b[12:15],b[16:19])))\n",
    "    if norm:\n",
    "        b15 = b15/norm_val\n",
    "    #print(b15)\n",
    "    return b15"
   ]
  },
  {
   "cell_type": "code",
   "execution_count": 3,
   "metadata": {},
   "outputs": [
    {
     "name": "stdout",
     "output_type": "stream",
     "text": [
      "Normalization Values: 15,[ 1.29527726e+00 -9.65380694e+01 -4.70754688e+01  5.04764588e+01\n",
      " -1.02137219e+02 -4.12042977e+01 -6.45047732e+02  1.01343628e+03\n",
      " -7.53177380e+02 -1.07857500e+02  2.22558621e+03  5.09934427e+01\n",
      " -3.24977599e+01  7.57266738e+01 -9.49982304e+01]\n",
      "\n",
      "[[0.   4.22 0.  ]\n",
      " [0.   4.22 0.  ]\n",
      " [0.   4.22 0.  ]\n",
      " [0.   4.22 0.02]\n",
      " [0.   4.22 0.1 ]]\n"
     ]
    }
   ],
   "source": [
    "norm_val = np.loadtxt(\"./Data/norm_val_100.txt\",dtype = float) \n",
    "print(f\"Normalization Values: {len(norm_val)},{norm_val}\")\n",
    "\n",
    "truths =  np.loadtxt(\"./Data/truths_artillery_screw_50k.txt\",dtype = float)\n",
    "print()\n",
    "print(truths[0:5])"
   ]
  },
  {
   "cell_type": "code",
   "execution_count": 4,
   "metadata": {},
   "outputs": [
    {
     "name": "stdout",
     "output_type": "stream",
     "text": [
      "[42.96377428  0.5982096   0.48326656  1.83947135  1.42895999  0.32884919\n",
      "  0.96946314  0.97865058  0.95267067  0.96377164  1.01157618  1.9314248\n",
      "  3.12021507  0.22581211  0.60885345]\n",
      "[  56.55  -56.25  -23.96  102.75 -143.4   -24.2  -627.45  989.25 -725.52\n",
      " -102.15 2246.55  103.09 -104.25   17.25  -68.49]\n"
     ]
    }
   ],
   "source": [
    "print(read_sensor())\n",
    "print(read_sensor(False))"
   ]
  },
  {
   "cell_type": "code",
   "execution_count": 5,
   "metadata": {},
   "outputs": [],
   "source": [
    "#Model:\n",
    "import os\n",
    "\n",
    "import numpy as np\n",
    "import torch\n",
    "import torch.nn as nn\n",
    "from torch.autograd import Function\n",
    "\n",
    "def initialize_weights(m):\n",
    "    if isinstance(m, nn.Linear):\n",
    "        nn.init.kaiming_uniform_(m.weight.data,nonlinearity='relu')\n",
    "        \n",
    "class simpleMLP(nn.Module):\n",
    "    def __init__(self, n_input, n_output, hidden_dims=[64,64], \n",
    "        activation_fn = nn.Tanh, output_activation = None):\n",
    "        super(simpleMLP,self).__init__()\n",
    "        self.n_input = n_input\n",
    "        self.n_output = n_output\n",
    "        \n",
    "        layer_dims = [n_input] + hidden_dims + [n_output]\n",
    "        layers = []\n",
    "        \n",
    "        for d in range(len(layer_dims)-1):\n",
    "            layers.append(nn.Linear(layer_dims[d], layer_dims[d+1], bias=True))\n",
    "            if d < len(layer_dims) - 2:\n",
    "                layers.append(activation_fn())\n",
    "        \n",
    "        if output_activation is not None:\n",
    "            layers.append(output_activation())\n",
    "        for l in layers:\n",
    "            initialize_weights(l)\n",
    "        self.model = nn.Sequential(*layers)\n",
    "        \n",
    "        \n",
    "            \n",
    "    def forward(self, inputs):\n",
    "        return self.model(inputs)\n",
    "\n",
    "class vanilla_model(nn.Module):\n",
    "    def __init__(self, n_input, feature_dim=20, feat_hidden=[64,64], activation_fn=nn.Tanh,\n",
    "        feat_activation=None, output_hidden=[64,64],output_activation=None,\n",
    "        pred_Fz=True, pred_Fxy=False):\n",
    "        super(vanilla_model, self).__init__()\n",
    "        self.n_input = n_input\n",
    "        self.n_output = 2 + int(pred_Fz) + 2*int(pred_Fxy)\n",
    "        self.feature_dim = feature_dim\n",
    "        self.feat_model = simpleMLP(n_input=n_input, n_output=feature_dim, \n",
    "            hidden_dims=feat_hidden, activation_fn=activation_fn, \n",
    "            output_activation=feat_activation\n",
    "        )\n",
    "        self.output_model = simpleMLP(feature_dim, self.n_output, hidden_dims=output_hidden,\n",
    "            activation_fn=activation_fn, output_activation=output_activation)\n",
    "\n",
    "    def forward(self, sens):\n",
    "        return self.output_model(self.get_feature(sens))\n",
    "\n",
    "    def get_feature(self, sens):\n",
    "        return self.feat_model(sens)\n",
    "    \n",
    "    def get_out_from_feature(self, feature):\n",
    "        return self.output_model(feature)"
   ]
  },
  {
   "cell_type": "code",
   "execution_count": 6,
   "metadata": {},
   "outputs": [],
   "source": [
    "model = vanilla_model(15, feature_dim=40, feat_hidden=[200,200], activation_fn=nn.ReLU, output_hidden=[200,200],\n",
    "                            output_activation=nn.ReLU)"
   ]
  },
  {
   "cell_type": "code",
   "execution_count": 7,
   "metadata": {},
   "outputs": [
    {
     "data": {
      "text/plain": [
       "<All keys matched successfully>"
      ]
     },
     "execution_count": 7,
     "metadata": {},
     "output_type": "execute_result"
    }
   ],
   "source": [
    "model.load_state_dict(torch.load(\"./Data/working_model_piezo\"))"
   ]
  },
  {
   "cell_type": "code",
   "execution_count": 8,
   "metadata": {},
   "outputs": [],
   "source": [
    "%matplotlib inline\n",
    "import time\n",
    "import pylab as pl\n",
    "from IPython import display\n",
    "import matplotlib.pyplot as plt\n",
    "\n",
    "def update_plot(x_list,y_list,F_list):\n",
    "    plt.clf()\n",
    "    plt.xlim(0,20)\n",
    "    plt.ylim(0,20)\n",
    "    plt.ylabel(\"y predicted [mm]\")\n",
    "    plt.xlabel(\"x predicted [mm]\")\n",
    "    plt.scatter(x_list,y_list,F_list)\n",
    "    display.display(plt.gcf())\n",
    "    display.clear_output(wait=True)\n",
    "    time.sleep(0.0001)"
   ]
  },
  {
   "cell_type": "code",
   "execution_count": null,
   "metadata": {},
   "outputs": [],
   "source": [
    "i = 0\n",
    "show =15\n",
    "x_list = np.zeros(show)\n",
    "y_list = np.zeros(show)\n",
    "F_list = np.zeros(show)\n",
    "\n",
    "while(1):\n",
    "    single_set = [torch.tensor(read_sensor(),dtype=torch.float32),torch.tensor(truths[0],dtype=torch.float32)]\n",
    "    xyF = model(single_set[0])\n",
    "    #print(f\"X:{float(xyF[0])}, Y:{float(xyF[1])}, F:{float(xyF[2])}\")\n",
    "    if(xyF[2] != 0):\n",
    "        #print(float(xyF[0]),float(xyF[1]),float(xyF[2]))\n",
    "        x_list[i] = float(xyF[0])\n",
    "        y_list[i] = float(xyF[1])\n",
    "        F_list[i] = float(xyF[2])*25\n",
    "    else:\n",
    "        #print(float(xyF[0]),float(xyF[1]),float(xyF[2]))\n",
    "        x_list[i] = 0\n",
    "        y_list[i] = 0\n",
    "        F_list[i] = 0\n",
    "        \n",
    "    i += 1\n",
    "    if i == show-1:\n",
    "        i = 0\n",
    "    #print(i)\n",
    "    #print(x_list)\n",
    "    #print(y_list)\n",
    "    #print(F_list)\n",
    "    update_plot(x_list,y_list,F_list)\n",
    "    #time.sleep(0.0001)"
   ]
  },
  {
   "cell_type": "code",
   "execution_count": null,
   "metadata": {},
   "outputs": [],
   "source": []
  }
 ],
 "metadata": {
  "kernelspec": {
   "display_name": "Python 3",
   "language": "python",
   "name": "python3"
  },
  "language_info": {
   "codemirror_mode": {
    "name": "ipython",
    "version": 3
   },
   "file_extension": ".py",
   "mimetype": "text/x-python",
   "name": "python",
   "nbconvert_exporter": "python",
   "pygments_lexer": "ipython3",
   "version": "3.8.8"
  }
 },
 "nbformat": 4,
 "nbformat_minor": 4
}
